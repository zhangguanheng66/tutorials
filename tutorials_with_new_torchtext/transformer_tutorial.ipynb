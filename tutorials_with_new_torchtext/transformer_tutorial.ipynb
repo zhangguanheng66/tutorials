{
  "nbformat": 4,
  "nbformat_minor": 0,
  "metadata": {
    "colab": {
      "name": "transformer_tutorial.ipynb",
      "provenance": [],
      "collapsed_sections": [],
      "include_colab_link": true
    },
    "kernelspec": {
      "name": "python3",
      "display_name": "Python 3"
    },
    "accelerator": "GPU"
  },
  "cells": [
    {
      "cell_type": "markdown",
      "metadata": {
        "id": "view-in-github",
        "colab_type": "text"
      },
      "source": [
        "<a href=\"https://colab.research.google.com/github/zhangguanheng66/tutorials/blob/tutorials_with_new_torchtext/tutorials_with_new_torchtext/transformer_tutorial.ipynb\" target=\"_parent\"><img src=\"https://colab.research.google.com/assets/colab-badge.svg\" alt=\"Open In Colab\"/></a>"
      ]
    },
    {
      "cell_type": "code",
      "metadata": {
        "id": "1xqbMWaK4s69",
        "outputId": "744df6e5-4dba-47fc-8a55-55dae7db397c",
        "colab": {
          "base_uri": "https://localhost:8080/"
        }
      },
      "source": [
        "%%shell\n",
        "\n",
        "#pip uninstall torch torchtext\n",
        "rm -r /usr/local/lib/python3.6/dist-packages/torch*\n",
        "pip install --pre torch torchtext -f https://download.pytorch.org/whl/nightly/cu101/torch_nightly.html\n",
        "# pip install --pre torch==1.8.0.dev20201008+cu101 torchtext==0.8.0.dev20201008 -f https://download.pytorch.org/whl/nightly/cu101/torch_nightly.html"
      ],
      "execution_count": 1,
      "outputs": [
        {
          "output_type": "stream",
          "text": [
            "Looking in links: https://download.pytorch.org/whl/nightly/cu101/torch_nightly.html\n",
            "Collecting torch\n",
            "\u001b[?25l  Downloading https://download.pytorch.org/whl/nightly/cu101/torch-1.8.0.dev20201116%2Bcu101-cp36-cp36m-linux_x86_64.whl (770.4MB)\n",
            "\u001b[K     |████████████████████████████████| 770.4MB 22kB/s \n",
            "\u001b[?25hCollecting torchtext\n",
            "\u001b[?25l  Downloading https://download.pytorch.org/whl/nightly/torchtext-0.9.0.dev20201116-cp36-cp36m-linux_x86_64.whl (7.1MB)\n",
            "\u001b[K     |████████████████████████████████| 7.1MB 8.5MB/s \n",
            "\u001b[?25hRequirement already satisfied: numpy in /usr/local/lib/python3.6/dist-packages (from torch) (1.18.5)\n",
            "Requirement already satisfied: dataclasses; python_version < \"3.7\" in /usr/local/lib/python3.6/dist-packages (from torch) (0.7)\n",
            "Requirement already satisfied: typing-extensions in /usr/local/lib/python3.6/dist-packages (from torch) (3.7.4.3)\n",
            "Requirement already satisfied: requests in /usr/local/lib/python3.6/dist-packages (from torchtext) (2.23.0)\n",
            "Requirement already satisfied: tqdm in /usr/local/lib/python3.6/dist-packages (from torchtext) (4.41.1)\n",
            "Requirement already satisfied: urllib3!=1.25.0,!=1.25.1,<1.26,>=1.21.1 in /usr/local/lib/python3.6/dist-packages (from requests->torchtext) (1.24.3)\n",
            "Requirement already satisfied: certifi>=2017.4.17 in /usr/local/lib/python3.6/dist-packages (from requests->torchtext) (2020.6.20)\n",
            "Requirement already satisfied: chardet<4,>=3.0.2 in /usr/local/lib/python3.6/dist-packages (from requests->torchtext) (3.0.4)\n",
            "Requirement already satisfied: idna<3,>=2.5 in /usr/local/lib/python3.6/dist-packages (from requests->torchtext) (2.10)\n",
            "\u001b[31mERROR: fastai 1.0.61 requires torchvision, which is not installed.\u001b[0m\n",
            "\u001b[31mERROR: torchtext 0.9.0.dev20201116 has requirement torch==1.8.0.dev20201116+cpu, but you'll have torch 1.8.0.dev20201116+cu101 which is incompatible.\u001b[0m\n",
            "Installing collected packages: torch, torchtext\n",
            "Successfully installed torch-1.8.0.dev20201116+cu101 torchtext-0.9.0.dev20201116\n"
          ],
          "name": "stdout"
        },
        {
          "output_type": "execute_result",
          "data": {
            "text/plain": [
              ""
            ]
          },
          "metadata": {
            "tags": []
          },
          "execution_count": 1
        }
      ]
    },
    {
      "cell_type": "markdown",
      "metadata": {
        "id": "bf5wspTT2zui"
      },
      "source": [
        "\n",
        "Sequence-to-Sequence Modeling with nn.Transformer and TorchText\n",
        "===============================================================\n",
        "\n",
        "This is a tutorial on how to train a sequence-to-sequence model\n",
        "that uses the\n",
        "`nn.Transformer <https://pytorch.org/docs/master/nn.html?highlight=nn%20transformer#torch.nn.Transformer>`__ module.\n",
        "\n",
        "PyTorch 1.2 release includes a standard transformer module based on the\n",
        "paper `Attention is All You\n",
        "Need <https://arxiv.org/pdf/1706.03762.pdf>`__. The transformer model\n",
        "has been proved to be superior in quality for many sequence-to-sequence\n",
        "problems while being more parallelizable. The ``nn.Transformer`` module\n",
        "relies entirely on an attention mechanism (another module recently\n",
        "implemented as `nn.MultiheadAttention <https://pytorch.org/docs/master/nn.html?highlight=multiheadattention#torch.nn.MultiheadAttention>`__) to draw global dependencies\n",
        "between input and output. The ``nn.Transformer`` module is now highly\n",
        "modularized such that a single component (like `nn.TransformerEncoder <https://pytorch.org/docs/master/nn.html?highlight=nn%20transformerencoder#torch.nn.TransformerEncoder>`__\n",
        "in this tutorial) can be easily adapted/composed.\n",
        "\n",
        "![](https://github.com/pytorch/tutorials/blob/gh-pages/_downloads/_static/img/transformer_architecture.jpg?raw=1)\n",
        "\n",
        "\n",
        "\n"
      ]
    },
    {
      "cell_type": "markdown",
      "metadata": {
        "id": "xMss4VdB2zui"
      },
      "source": [
        "Define the model\n",
        "----------------\n",
        "\n",
        "\n"
      ]
    },
    {
      "cell_type": "markdown",
      "metadata": {
        "id": "VDc0bHMQ2zuj"
      },
      "source": [
        "In this tutorial, we train ``nn.TransformerEncoder`` model on a\n",
        "language modeling task. The language modeling task is to assign a\n",
        "probability for the likelihood of a given word (or a sequence of words)\n",
        "to follow a sequence of words. A sequence of tokens are passed to the embedding\n",
        "layer first, followed by a positional encoding layer to account for the order\n",
        "of the word (see the next paragraph for more details). The\n",
        "``nn.TransformerEncoder`` consists of multiple layers of\n",
        "`nn.TransformerEncoderLayer <https://pytorch.org/docs/master/nn.html?highlight=transformerencoderlayer#torch.nn.TransformerEncoderLayer>`__. Along with the input sequence, a square\n",
        "attention mask is required because the self-attention layers in\n",
        "``nn.TransformerEncoder`` are only allowed to attend the earlier positions in\n",
        "the sequence. For the language modeling task, any tokens on the future\n",
        "positions should be masked. To have the actual words, the output\n",
        "of ``nn.TransformerEncoder`` model is sent to the final Linear\n",
        "layer, which is followed by a log-Softmax function.\n",
        "\n",
        "\n"
      ]
    },
    {
      "cell_type": "code",
      "metadata": {
        "id": "MsjFFJkT2zuk"
      },
      "source": [
        "import math\n",
        "import torch\n",
        "import torch.nn as nn\n",
        "import torch.nn.functional as F\n",
        "\n",
        "class TransformerModel(nn.Module):\n",
        "\n",
        "    def __init__(self, ntoken, ninp, nhead, nhid, nlayers, dropout=0.5):\n",
        "        super(TransformerModel, self).__init__()\n",
        "        from torch.nn import TransformerEncoder, TransformerEncoderLayer\n",
        "        self.model_type = 'Transformer'\n",
        "        self.pos_encoder = PositionalEncoding(ninp, dropout)\n",
        "        encoder_layers = TransformerEncoderLayer(ninp, nhead, nhid, dropout)\n",
        "        self.transformer_encoder = TransformerEncoder(encoder_layers, nlayers)\n",
        "        self.encoder = nn.Embedding(ntoken, ninp)\n",
        "        self.ninp = ninp\n",
        "        self.decoder = nn.Linear(ninp, ntoken)\n",
        "\n",
        "        self.init_weights()\n",
        "\n",
        "    def generate_square_subsequent_mask(self, sz):\n",
        "        mask = (torch.triu(torch.ones(sz, sz)) == 1).transpose(0, 1)\n",
        "        mask = mask.float().masked_fill(mask == 0, float('-inf')).masked_fill(mask == 1, float(0.0))\n",
        "        return mask\n",
        "\n",
        "    def init_weights(self):\n",
        "        initrange = 0.1\n",
        "        self.encoder.weight.data.uniform_(-initrange, initrange)\n",
        "        self.decoder.bias.data.zero_()\n",
        "        self.decoder.weight.data.uniform_(-initrange, initrange)\n",
        "\n",
        "    def forward(self, src, src_mask):\n",
        "        src = self.encoder(src) * math.sqrt(self.ninp)\n",
        "        src = self.pos_encoder(src)\n",
        "        output = self.transformer_encoder(src, src_mask)\n",
        "        output = self.decoder(output)\n",
        "        return output"
      ],
      "execution_count": 2,
      "outputs": []
    },
    {
      "cell_type": "markdown",
      "metadata": {
        "id": "HkKG0l0p2zun"
      },
      "source": [
        "``PositionalEncoding`` module injects some information about the\n",
        "relative or absolute position of the tokens in the sequence. The\n",
        "positional encodings have the same dimension as the embeddings so that\n",
        "the two can be summed. Here, we use ``sine`` and ``cosine`` functions of\n",
        "different frequencies.\n",
        "\n",
        "\n"
      ]
    },
    {
      "cell_type": "code",
      "metadata": {
        "id": "RgoKfr7S2zuo"
      },
      "source": [
        "class PositionalEncoding(nn.Module):\n",
        "\n",
        "    def __init__(self, d_model, dropout=0.1, max_len=5000):\n",
        "        super(PositionalEncoding, self).__init__()\n",
        "        self.dropout = nn.Dropout(p=dropout)\n",
        "\n",
        "        pe = torch.zeros(max_len, d_model)\n",
        "        position = torch.arange(0, max_len, dtype=torch.float).unsqueeze(1)\n",
        "        div_term = torch.exp(torch.arange(0, d_model, 2).float() * (-math.log(10000.0) / d_model))\n",
        "        pe[:, 0::2] = torch.sin(position * div_term)\n",
        "        pe[:, 1::2] = torch.cos(position * div_term)\n",
        "        pe = pe.unsqueeze(0).transpose(0, 1)\n",
        "        self.register_buffer('pe', pe)\n",
        "\n",
        "    def forward(self, x):\n",
        "        x = x + self.pe[:x.size(0), :]\n",
        "        return self.dropout(x)"
      ],
      "execution_count": 3,
      "outputs": []
    },
    {
      "cell_type": "markdown",
      "metadata": {
        "id": "72Q-uhtw2zur"
      },
      "source": [
        "Load and batch data\n",
        "-------------------\n",
        "\n",
        "\n"
      ]
    },
    {
      "cell_type": "markdown",
      "metadata": {
        "id": "ZF5L9VKX2zur"
      },
      "source": [
        "The training process uses Wikitext-2 dataset from ``torchtext``. The\n",
        "vocab object is built based on the train dataset and is used to numericalize\n",
        "tokens into tensors. Starting from sequential data, the ``batchify()``\n",
        "function arranges the dataset into columns, trimming off any tokens remaining\n",
        "after the data has been divided into batches of size ``batch_size``.\n",
        "For instance, with the alphabet as the sequence (total length of 26)\n",
        "and a batch size of 4, we would divide the alphabet into 4 sequences of\n",
        "length 6:\n",
        "\n",
        "\\begin{align}\\begin{bmatrix}\n",
        "  \\text{A} & \\text{B} & \\text{C} & \\ldots & \\text{X} & \\text{Y} & \\text{Z}\n",
        "  \\end{bmatrix}\n",
        "  \\Rightarrow\n",
        "  \\begin{bmatrix}\n",
        "  \\begin{bmatrix}\\text{A} \\\\ \\text{B} \\\\ \\text{C} \\\\ \\text{D} \\\\ \\text{E} \\\\ \\text{F}\\end{bmatrix} &\n",
        "  \\begin{bmatrix}\\text{G} \\\\ \\text{H} \\\\ \\text{I} \\\\ \\text{J} \\\\ \\text{K} \\\\ \\text{L}\\end{bmatrix} &\n",
        "  \\begin{bmatrix}\\text{M} \\\\ \\text{N} \\\\ \\text{O} \\\\ \\text{P} \\\\ \\text{Q} \\\\ \\text{R}\\end{bmatrix} &\n",
        "  \\begin{bmatrix}\\text{S} \\\\ \\text{T} \\\\ \\text{U} \\\\ \\text{V} \\\\ \\text{W} \\\\ \\text{X}\\end{bmatrix}\n",
        "  \\end{bmatrix}\\end{align}\n",
        "\n",
        "These columns are treated as independent by the model, which means that\n",
        "the dependence of ``G`` and ``F`` can not be learned, but allows more\n",
        "efficient batch processing.\n",
        "\n",
        "\n"
      ]
    },
    {
      "cell_type": "code",
      "metadata": {
        "id": "JDMlI0VJ2zus",
        "outputId": "edac9d8a-0f5e-4b2d-8c04-0cfa4f2d1156",
        "colab": {
          "base_uri": "https://localhost:8080/"
        }
      },
      "source": [
        "import io\n",
        "from torchtext.utils import download_from_url, extract_archive\n",
        "from torchtext.data.utils import get_tokenizer\n",
        "from torchtext.vocab import build_vocab_from_iterator\n",
        "\n",
        "url = 'https://s3.amazonaws.com/research.metamind.io/wikitext/wikitext-2-v1.zip'\n",
        "test_filepath, valid_filepath, train_filepath = extract_archive(download_from_url(url))\n",
        "tokenizer = get_tokenizer('basic_english')\n",
        "vocab = build_vocab_from_iterator(map(tokenizer,\n",
        "                                      iter(io.open(train_filepath,\n",
        "                                                   encoding=\"utf8\"))))\n",
        "\n",
        "def data_process(raw_text_iter):\n",
        "  data_ = [torch.tensor([vocab[token] for token in tokenizer(item)],\n",
        "                        dtype=torch.long) for item in raw_text_iter]\n",
        "  return torch.cat(tuple(filter(lambda t: t.numel() > 0, data_)))\n",
        "\n",
        "train_data = data_process(iter(io.open(train_filepath)))\n",
        "val_data = data_process(iter(io.open(valid_filepath)))\n",
        "test_data = data_process(iter(io.open(test_filepath)))"
      ],
      "execution_count": 26,
      "outputs": [
        {
          "output_type": "stream",
          "text": [
            "36718lines [00:01, 28340.91lines/s]\n"
          ],
          "name": "stderr"
        }
      ]
    },
    {
      "cell_type": "markdown",
      "metadata": {
        "id": "N6UGzB2T2zuv"
      },
      "source": [
        "Functions to generate input and target sequence\n",
        "-----------------------------------------------"
      ]
    },
    {
      "cell_type": "markdown",
      "metadata": {
        "id": "ifYVsUQR2zuv"
      },
      "source": [
        "``get_batch()`` function generates the input and target sequence for\n",
        "the transformer model. It subdivides the source data into chunks of\n",
        "length ``bptt``. For the language modeling task, the model needs the\n",
        "following words as ``Target``. For example, with a ``bptt`` value of 2,\n",
        "we’d get the following two Variables for ``i`` = 0:\n",
        "\n",
        "![](https://github.com/pytorch/tutorials/blob/gh-pages/_downloads/_static/img/transformer_input_target.png?raw=1)\n",
        "\n",
        "\n",
        "It should be noted that the chunks are along dimension 0, consistent\n",
        "with the ``S`` dimension in the Transformer model. The batch dimension\n",
        "``N`` is along dimension 1.\n",
        "\n",
        "\n"
      ]
    },
    {
      "cell_type": "code",
      "metadata": {
        "id": "pkmRcx6C2zuw"
      },
      "source": [
        "bptt, bsz = 35, 20\n",
        "device = torch.device(\"cuda\" if torch.cuda.is_available() else \"cpu\")\n",
        "def get_batch(batch_data):\n",
        "    processed_data = torch.stack([item for item in batch_data])\n",
        "    processed_data = processed_data.view(bsz, -1).t().contiguous()\n",
        "    return processed_data.to(device)"
      ],
      "execution_count": 27,
      "outputs": []
    },
    {
      "cell_type": "markdown",
      "metadata": {
        "id": "4-J0TvYw2zuz"
      },
      "source": [
        "Initiate an instance\n",
        "--------------------\n",
        "\n",
        "\n"
      ]
    },
    {
      "cell_type": "markdown",
      "metadata": {
        "id": "ICGgmGWe2zuz"
      },
      "source": [
        "The model is set up with the hyperparameter below. The vocab size is\n",
        "equal to the length of the vocab object.\n",
        "\n",
        "\n"
      ]
    },
    {
      "cell_type": "code",
      "metadata": {
        "id": "fqQ_6x502zu0"
      },
      "source": [
        "ntokens = len(vocab.stoi) # the size of vocabulary\n",
        "emsize = 200 # embedding dimension\n",
        "nhid = 200 # the dimension of the feedforward network model in nn.TransformerEncoder\n",
        "nlayers = 2 # the number of nn.TransformerEncoderLayer in nn.TransformerEncoder\n",
        "nhead = 2 # the number of heads in the multiheadattention models\n",
        "dropout = 0.2 # the dropout value\n",
        "model = TransformerModel(ntokens, emsize, nhead, nhid, nlayers, dropout).to(device)"
      ],
      "execution_count": 29,
      "outputs": []
    },
    {
      "cell_type": "markdown",
      "metadata": {
        "id": "WlZLuM472zu3"
      },
      "source": [
        "Run the model\n",
        "-------------\n",
        "\n",
        "\n"
      ]
    },
    {
      "cell_type": "markdown",
      "metadata": {
        "id": "ElpL_b4Q2zu4"
      },
      "source": [
        "`CrossEntropyLoss <https://pytorch.org/docs/master/nn.html?highlight=crossentropyloss#torch.nn.CrossEntropyLoss>`__\n",
        "is applied to track the loss and\n",
        "`SGD <https://pytorch.org/docs/master/optim.html?highlight=sgd#torch.optim.SGD>`__\n",
        "implements stochastic gradient descent method as the optimizer. The initial\n",
        "learning rate is set to 5.0. `StepLR <https://pytorch.org/docs/master/optim.html?highlight=steplr#torch.optim.lr_scheduler.StepLR>`__ is\n",
        "applied to adjust the learn rate through epochs. During the\n",
        "training, we use\n",
        "`nn.utils.clip_grad_norm\\_ <https://pytorch.org/docs/master/nn.html?highlight=nn%20utils%20clip_grad_norm#torch.nn.utils.clip_grad_norm_>`__\n",
        "function to scale all the gradient together to prevent exploding.\n",
        "\n",
        "\n"
      ]
    },
    {
      "cell_type": "code",
      "metadata": {
        "id": "t7HCfaEW2zu4"
      },
      "source": [
        "from torch.utils.data import DataLoader\n",
        "criterion = nn.CrossEntropyLoss()\n",
        "lr = 5.0 # learning rate\n",
        "optimizer = torch.optim.SGD(model.parameters(), lr=lr)\n",
        "scheduler = torch.optim.lr_scheduler.StepLR(optimizer, 1.0, gamma=0.95)\n",
        "train_dataloader = DataLoader(train_data, batch_size=(bptt + 1) * bsz, shuffle=False, collate_fn=get_batch, drop_last=True)\n",
        "val_dataloader = DataLoader(val_data, batch_size=(bptt + 1) * bsz, shuffle=False, collate_fn=get_batch, drop_last=True)\n",
        "\n",
        "import time\n",
        "def train():\n",
        "    model.train() # Turn on the train mode\n",
        "    total_loss = 0.\n",
        "    start_time = time.time()\n",
        "    src_mask = model.generate_square_subsequent_mask(bptt).to(device)\n",
        "    for idx, processed_data in enumerate(train_dataloader):\n",
        "        data, targets = processed_data[:-1], processed_data[1:].view(-1)\n",
        "        optimizer.zero_grad()\n",
        "        if data.size(0) != bptt:\n",
        "            src_mask = model.generate_square_subsequent_mask(data.size(0)).to(device)\n",
        "        output = model(data, src_mask)\n",
        "        loss = criterion(output.view(-1, ntokens), targets)\n",
        "        loss.backward()\n",
        "        torch.nn.utils.clip_grad_norm_(model.parameters(), 0.5)\n",
        "        optimizer.step()\n",
        "\n",
        "        total_loss += loss.item()\n",
        "        log_interval = 200\n",
        "        if idx % log_interval == 0 and idx > 0:\n",
        "            cur_loss = total_loss / log_interval\n",
        "            elapsed = time.time() - start_time\n",
        "            print('| epoch {:3d} | {:5d}/{:5d} batches | '\n",
        "                  'lr {:02.2f} | ms/batch {:5.2f} | '\n",
        "                  'loss {:5.2f} | ppl {:8.2f}'.format(\n",
        "                    epoch, idx, len(train_data) // ((bptt + 1) * bsz), scheduler.get_lr()[0],\n",
        "                    elapsed * 1000 / log_interval,\n",
        "                    cur_loss, math.exp(cur_loss)))\n",
        "            total_loss = 0\n",
        "            start_time = time.time()\n",
        "\n",
        "def evaluate(eval_model, dataloader):\n",
        "    eval_model.eval() # Turn on the evaluation mode\n",
        "    total_loss = 0.\n",
        "    src_mask = model.generate_square_subsequent_mask(bptt).to(device)\n",
        "    with torch.no_grad():\n",
        "        for idx, processed_data in enumerate(dataloader):\n",
        "            data, targets = processed_data[:-1], processed_data[1:].view(-1)\n",
        "            if data.size(0) != bptt:\n",
        "                src_mask = model.generate_square_subsequent_mask(data.size(0)).to(device)\n",
        "            output = eval_model(data, src_mask)\n",
        "            output_flat = output.view(-1, ntokens)\n",
        "            total_loss += criterion(output_flat, targets).item()\n",
        "    return total_loss / len(dataloader)"
      ],
      "execution_count": 30,
      "outputs": []
    },
    {
      "cell_type": "markdown",
      "metadata": {
        "id": "2O8yPSor2zu7"
      },
      "source": [
        "Loop over epochs. Save the model if the validation loss is the best\n",
        "we've seen so far. Adjust the learning rate after each epoch.\n",
        "\n"
      ]
    },
    {
      "cell_type": "code",
      "metadata": {
        "id": "nlkeW0jp2zu8",
        "outputId": "86c2b680-0a80-4893-8221-6582011e7fb9",
        "colab": {
          "base_uri": "https://localhost:8080/"
        }
      },
      "source": [
        "best_val_loss = float(\"inf\")\n",
        "epochs = 3 # The number of epochs\n",
        "best_model = None\n",
        "\n",
        "for epoch in range(1, epochs + 1):\n",
        "    epoch_start_time = time.time()\n",
        "    train()\n",
        "    val_loss = evaluate(model, val_dataloader)\n",
        "    print('-' * 89)\n",
        "    print('| end of epoch {:3d} | time: {:5.2f}s | valid loss {:5.2f} | '\n",
        "          'valid ppl {:8.2f}'.format(epoch, (time.time() - epoch_start_time),\n",
        "                                     val_loss, math.exp(val_loss)))\n",
        "    print('-' * 89)\n",
        "\n",
        "    if val_loss < best_val_loss:\n",
        "        best_val_loss = val_loss\n",
        "        best_model = model\n",
        "\n",
        "    scheduler.step()"
      ],
      "execution_count": 31,
      "outputs": [
        {
          "output_type": "stream",
          "text": [
            "/usr/local/lib/python3.6/dist-packages/torch/optim/lr_scheduler.py:370: UserWarning: To get the last learning rate computed by the scheduler, please use `get_last_lr()`.\n",
            "  \"please use `get_last_lr()`.\", UserWarning)\n"
          ],
          "name": "stderr"
        },
        {
          "output_type": "stream",
          "text": [
            "| epoch   1 |   200/ 2847 batches | lr 5.00 | ms/batch 18.98 | loss  8.36 | ppl  4271.03\n",
            "| epoch   1 |   400/ 2847 batches | lr 5.00 | ms/batch 19.05 | loss  7.00 | ppl  1098.79\n",
            "| epoch   1 |   600/ 2847 batches | lr 5.00 | ms/batch 18.85 | loss  6.68 | ppl   792.87\n",
            "| epoch   1 |   800/ 2847 batches | lr 5.00 | ms/batch 18.96 | loss  6.45 | ppl   633.31\n",
            "| epoch   1 |  1000/ 2847 batches | lr 5.00 | ms/batch 18.95 | loss  6.29 | ppl   540.69\n",
            "| epoch   1 |  1200/ 2847 batches | lr 5.00 | ms/batch 19.45 | loss  6.22 | ppl   504.37\n",
            "| epoch   1 |  1400/ 2847 batches | lr 5.00 | ms/batch 19.23 | loss  6.10 | ppl   448.01\n",
            "| epoch   1 |  1600/ 2847 batches | lr 5.00 | ms/batch 19.20 | loss  6.14 | ppl   464.33\n",
            "| epoch   1 |  1800/ 2847 batches | lr 5.00 | ms/batch 19.18 | loss  6.04 | ppl   420.69\n",
            "| epoch   1 |  2000/ 2847 batches | lr 5.00 | ms/batch 18.95 | loss  6.12 | ppl   454.24\n",
            "| epoch   1 |  2200/ 2847 batches | lr 5.00 | ms/batch 18.84 | loss  6.03 | ppl   417.11\n",
            "| epoch   1 |  2400/ 2847 batches | lr 5.00 | ms/batch 18.77 | loss  6.09 | ppl   440.31\n",
            "| epoch   1 |  2600/ 2847 batches | lr 5.00 | ms/batch 19.05 | loss  6.01 | ppl   405.80\n",
            "| epoch   1 |  2800/ 2847 batches | lr 5.00 | ms/batch 18.73 | loss  6.03 | ppl   417.30\n",
            "-----------------------------------------------------------------------------------------\n",
            "| end of epoch   1 | time: 56.17s | valid loss  6.02 | valid ppl   411.74\n",
            "-----------------------------------------------------------------------------------------\n",
            "| epoch   2 |   200/ 2847 batches | lr 4.51 | ms/batch 18.98 | loss  5.97 | ppl   392.21\n",
            "| epoch   2 |   400/ 2847 batches | lr 4.51 | ms/batch 18.52 | loss  5.90 | ppl   363.57\n",
            "| epoch   2 |   600/ 2847 batches | lr 4.51 | ms/batch 18.58 | loss  5.88 | ppl   358.62\n",
            "| epoch   2 |   800/ 2847 batches | lr 4.51 | ms/batch 18.88 | loss  5.81 | ppl   332.44\n",
            "| epoch   2 |  1000/ 2847 batches | lr 4.51 | ms/batch 18.57 | loss  5.75 | ppl   315.26\n",
            "| epoch   2 |  1200/ 2847 batches | lr 4.51 | ms/batch 18.67 | loss  5.75 | ppl   315.33\n",
            "| epoch   2 |  1400/ 2847 batches | lr 4.51 | ms/batch 18.58 | loss  5.65 | ppl   284.36\n",
            "| epoch   2 |  1600/ 2847 batches | lr 4.51 | ms/batch 18.88 | loss  5.73 | ppl   307.72\n",
            "| epoch   2 |  1800/ 2847 batches | lr 4.51 | ms/batch 18.75 | loss  5.65 | ppl   285.59\n",
            "| epoch   2 |  2000/ 2847 batches | lr 4.51 | ms/batch 18.82 | loss  5.77 | ppl   320.60\n",
            "| epoch   2 |  2200/ 2847 batches | lr 4.51 | ms/batch 18.66 | loss  5.67 | ppl   290.85\n",
            "| epoch   2 |  2400/ 2847 batches | lr 4.51 | ms/batch 18.86 | loss  5.77 | ppl   319.29\n",
            "| epoch   2 |  2600/ 2847 batches | lr 4.51 | ms/batch 18.76 | loss  5.69 | ppl   297.06\n",
            "| epoch   2 |  2800/ 2847 batches | lr 4.51 | ms/batch 18.79 | loss  5.74 | ppl   310.59\n",
            "-----------------------------------------------------------------------------------------\n",
            "| end of epoch   2 | time: 55.45s | valid loss  5.87 | valid ppl   353.19\n",
            "-----------------------------------------------------------------------------------------\n",
            "| epoch   3 |   200/ 2847 batches | lr 4.29 | ms/batch 18.99 | loss  5.69 | ppl   294.59\n",
            "| epoch   3 |   400/ 2847 batches | lr 4.29 | ms/batch 18.89 | loss  5.65 | ppl   284.06\n",
            "| epoch   3 |   600/ 2847 batches | lr 4.29 | ms/batch 19.20 | loss  5.64 | ppl   281.14\n",
            "| epoch   3 |   800/ 2847 batches | lr 4.29 | ms/batch 18.86 | loss  5.57 | ppl   263.29\n",
            "| epoch   3 |  1000/ 2847 batches | lr 4.29 | ms/batch 18.92 | loss  5.53 | ppl   251.19\n",
            "| epoch   3 |  1200/ 2847 batches | lr 4.29 | ms/batch 18.90 | loss  5.54 | ppl   255.06\n",
            "| epoch   3 |  1400/ 2847 batches | lr 4.29 | ms/batch 19.09 | loss  5.45 | ppl   232.75\n",
            "| epoch   3 |  1600/ 2847 batches | lr 4.29 | ms/batch 18.69 | loss  5.53 | ppl   251.95\n",
            "| epoch   3 |  1800/ 2847 batches | lr 4.29 | ms/batch 18.68 | loss  5.46 | ppl   234.33\n",
            "| epoch   3 |  2000/ 2847 batches | lr 4.29 | ms/batch 18.73 | loss  5.56 | ppl   260.63\n",
            "| epoch   3 |  2200/ 2847 batches | lr 4.29 | ms/batch 18.86 | loss  5.47 | ppl   238.50\n",
            "| epoch   3 |  2400/ 2847 batches | lr 4.29 | ms/batch 18.60 | loss  5.57 | ppl   262.22\n",
            "| epoch   3 |  2600/ 2847 batches | lr 4.29 | ms/batch 18.73 | loss  5.51 | ppl   246.04\n",
            "| epoch   3 |  2800/ 2847 batches | lr 4.29 | ms/batch 18.96 | loss  5.56 | ppl   259.24\n",
            "-----------------------------------------------------------------------------------------\n",
            "| end of epoch   3 | time: 55.74s | valid loss  5.74 | valid ppl   312.47\n",
            "-----------------------------------------------------------------------------------------\n"
          ],
          "name": "stdout"
        }
      ]
    },
    {
      "cell_type": "markdown",
      "metadata": {
        "id": "ono_QE5Q2zu_"
      },
      "source": [
        "Evaluate the model with the test dataset\n",
        "-------------------------------------\n",
        "\n",
        "Apply the best model to check the result with the test dataset.\n",
        "\n"
      ]
    },
    {
      "cell_type": "code",
      "metadata": {
        "id": "0lBt6iqz2zu_",
        "outputId": "aa3ba259-3ebd-4546-aea8-4d436377727e",
        "colab": {
          "base_uri": "https://localhost:8080/"
        }
      },
      "source": [
        "test_dataloader = DataLoader(test_data, batch_size=(bptt + 1) * bsz, shuffle=False, collate_fn=get_batch, drop_last=True)\n",
        "test_loss = evaluate(best_model, test_dataloader)\n",
        "print('=' * 89)\n",
        "print('| End of training | test loss {:5.2f} | test ppl {:8.2f}'.format(\n",
        "    test_loss, math.exp(test_loss)))\n",
        "print('=' * 89)"
      ],
      "execution_count": 32,
      "outputs": [
        {
          "output_type": "stream",
          "text": [
            "=========================================================================================\n",
            "| End of training | test loss  5.66 | test ppl   288.15\n",
            "=========================================================================================\n"
          ],
          "name": "stdout"
        }
      ]
    }
  ]
}